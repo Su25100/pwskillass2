{
 "cells": [
  {
   "cell_type": "code",
   "execution_count": 3,
   "id": "8ea724f4-4de7-4b5e-b9f7-b798bc9d0d5e",
   "metadata": {},
   "outputs": [],
   "source": [
    "#Q1\n",
    "\n",
    "\"\"\"def keyword is used to create a function.\"\"\"\n",
    "\n",
    "def odd_no():\n",
    "    l1=[]\n",
    "    for i in range(1,26):\n",
    "        if i%2!=0:\n",
    "            l1.append(i)\n",
    "    return l1\n",
    "\n",
    "    "
   ]
  },
  {
   "cell_type": "code",
   "execution_count": 4,
   "id": "e7649d3e-9476-4dbf-8978-9ede70c7849c",
   "metadata": {},
   "outputs": [
    {
     "data": {
      "text/plain": [
       "[1, 3, 5, 7, 9, 11, 13, 15, 17, 19, 21, 23, 25]"
      ]
     },
     "execution_count": 4,
     "metadata": {},
     "output_type": "execute_result"
    }
   ],
   "source": [
    "odd_no()"
   ]
  },
  {
   "cell_type": "code",
   "execution_count": 8,
   "id": "ed68e77e-0a80-4370-9246-331b72284cba",
   "metadata": {},
   "outputs": [
    {
     "data": {
      "text/plain": [
       "'\\n*args - using this keyword we can pass multiple arguments to the function as an tuples.\\n**kwargs - using this keyword we can pass arguments as the dictionary.\\n'"
      ]
     },
     "execution_count": 8,
     "metadata": {},
     "output_type": "execute_result"
    }
   ],
   "source": [
    "#Q2\n",
    "\"\"\"\n",
    "\n",
    "*args - using this keyword we will receive multiple arguments  as an tuples.\n",
    "**kwargs - using this keyword we will receive arguments as an dictionary.\n",
    "\n",
    "\"\"\"\n",
    "\n",
    "    "
   ]
  },
  {
   "cell_type": "code",
   "execution_count": 9,
   "id": "8bb2954c-7c8f-4f64-9bb2-fa145caaee3d",
   "metadata": {},
   "outputs": [],
   "source": [
    "#example of *args and **kwargs:\n",
    "\n",
    "def f_arg(*args):\n",
    "    return args\n",
    "def s_args(**kwargs):\n",
    "    return kwargs"
   ]
  },
  {
   "cell_type": "code",
   "execution_count": 11,
   "id": "ad51f5fc-d424-43a4-b3e5-625f4644cd0e",
   "metadata": {},
   "outputs": [
    {
     "data": {
      "text/plain": [
       "(22, 56, 'sudh', 1, 2, 4)"
      ]
     },
     "execution_count": 11,
     "metadata": {},
     "output_type": "execute_result"
    }
   ],
   "source": [
    "f_arg(22,56,\"sudh\",1,2,4)"
   ]
  },
  {
   "cell_type": "code",
   "execution_count": 12,
   "id": "721e49e3-3f6b-4be9-a51b-880a701aa97f",
   "metadata": {},
   "outputs": [
    {
     "data": {
      "text/plain": [
       "{'a': 'shivay', 'b': 'rose', 'c': [1, 2, 3]}"
      ]
     },
     "execution_count": 12,
     "metadata": {},
     "output_type": "execute_result"
    }
   ],
   "source": [
    "s_args(a=\"shivay\",b=\"rose\",c=[1,2,3])"
   ]
  },
  {
   "cell_type": "code",
   "execution_count": 43,
   "id": "3aa85e00-85b6-495b-822e-a5e41ba904f0",
   "metadata": {},
   "outputs": [
    {
     "name": "stdout",
     "output_type": "stream",
     "text": [
      "2\n",
      "4\n",
      "6\n",
      "8\n",
      "10\n"
     ]
    }
   ],
   "source": [
    "#Q3\n",
    "\"\"\"Iterator is an object through which you can traverse through all the values.\n",
    "   iter():method used to initialise the iterator object  and next(): method  used  for iteration.\n",
    "   \n",
    "   \"\"\"\n",
    "\n",
    "l=[2,4,6,8,10,12,14,16,18,20]\n",
    "t=iter(l)\n",
    "print(next(t))\n",
    "print(next(t))\n",
    "print(next(t))\n",
    "print(next(t))\n",
    "print(next(t))\n"
   ]
  },
  {
   "cell_type": "code",
   "execution_count": 27,
   "id": "89a97ef9-7761-41d4-85a0-55a6e168e4a7",
   "metadata": {},
   "outputs": [],
   "source": [
    "#q4 \n",
    "\n",
    "\"\"\"Generator function is a function which allows you to declare a function which will behave like an iterator and allow you to traverse through \n",
    "all the values one by one .\n",
    "\n",
    "Yield keyword is similar to that of return keyword but only difference is  that it controls the flow of the generator function.\n",
    "\n",
    "\"\"\"\n",
    "#example of  genrator function:\n",
    "\n",
    "def gen_ex(n):\n",
    "    count=1\n",
    "    while count<=n:\n",
    "        yield count\n",
    "        count+=1"
   ]
  },
  {
   "cell_type": "code",
   "execution_count": 25,
   "id": "6ab43292-8438-4fe6-becb-0eaebb5c7132",
   "metadata": {},
   "outputs": [],
   "source": [
    "f=gen_ex(5)"
   ]
  },
  {
   "cell_type": "code",
   "execution_count": 28,
   "id": "ce6fb63e-40ce-4690-af39-a564b0ca0aad",
   "metadata": {},
   "outputs": [
    {
     "name": "stdout",
     "output_type": "stream",
     "text": [
      "1\n",
      "2\n",
      "3\n",
      "4\n",
      "5\n"
     ]
    }
   ],
   "source": [
    "for i in f:\n",
    "    print(i)"
   ]
  },
  {
   "cell_type": "code",
   "execution_count": 8,
   "id": "859c8346-4de8-4b54-ab44-43707ee054f0",
   "metadata": {},
   "outputs": [],
   "source": [
    "#Q5 \n",
    "def pr_no(n):\n",
    "    for i in range(21):\n",
    "        c=0\n",
    "        for j in range(2,(i//2+1)):\n",
    "            if i%j==0:\n",
    "                c+=1\n",
    "                break\n",
    "        if c==0 and i!=1:\n",
    "            yield i\n",
    "            "
   ]
  },
  {
   "cell_type": "code",
   "execution_count": 16,
   "id": "ab8bfe7c-db1e-461e-94c0-81e34bf61ff6",
   "metadata": {},
   "outputs": [
    {
     "data": {
      "text/plain": [
       "0"
      ]
     },
     "execution_count": 16,
     "metadata": {},
     "output_type": "execute_result"
    }
   ],
   "source": [
    "o= pr_no(1000)\n",
    "t=iter(o)\n",
    "next(t)\n"
   ]
  },
  {
   "cell_type": "code",
   "execution_count": 17,
   "id": "f5bef903-0e35-4c25-93e3-407887f078ff",
   "metadata": {},
   "outputs": [
    {
     "data": {
      "text/plain": [
       "2"
      ]
     },
     "execution_count": 17,
     "metadata": {},
     "output_type": "execute_result"
    }
   ],
   "source": [
    "next(t)"
   ]
  },
  {
   "cell_type": "code",
   "execution_count": 18,
   "id": "ff32da2e-dbbe-4f8b-927a-ba1009a17d2b",
   "metadata": {},
   "outputs": [
    {
     "data": {
      "text/plain": [
       "3"
      ]
     },
     "execution_count": 18,
     "metadata": {},
     "output_type": "execute_result"
    }
   ],
   "source": [
    "next(t)"
   ]
  },
  {
   "cell_type": "code",
   "execution_count": 19,
   "id": "5790ac45-8dfc-4d37-8ff5-c7ffcb58fb23",
   "metadata": {},
   "outputs": [
    {
     "data": {
      "text/plain": [
       "5"
      ]
     },
     "execution_count": 19,
     "metadata": {},
     "output_type": "execute_result"
    }
   ],
   "source": [
    "next(t)"
   ]
  },
  {
   "cell_type": "code",
   "execution_count": 20,
   "id": "c4e9018c-1dba-499f-ae55-20581391e452",
   "metadata": {},
   "outputs": [
    {
     "data": {
      "text/plain": [
       "7"
      ]
     },
     "execution_count": 20,
     "metadata": {},
     "output_type": "execute_result"
    }
   ],
   "source": [
    "next(t)"
   ]
  },
  {
   "cell_type": "code",
   "execution_count": 21,
   "id": "f9fc9e6e-2c9d-4a6a-8917-def65097ed46",
   "metadata": {},
   "outputs": [
    {
     "data": {
      "text/plain": [
       "11"
      ]
     },
     "execution_count": 21,
     "metadata": {},
     "output_type": "execute_result"
    }
   ],
   "source": [
    "next(t)"
   ]
  },
  {
   "cell_type": "code",
   "execution_count": 22,
   "id": "46062d2d-a977-4923-8b6c-b47f8be8d36e",
   "metadata": {},
   "outputs": [
    {
     "data": {
      "text/plain": [
       "13"
      ]
     },
     "execution_count": 22,
     "metadata": {},
     "output_type": "execute_result"
    }
   ],
   "source": [
    "next(t)"
   ]
  },
  {
   "cell_type": "code",
   "execution_count": 23,
   "id": "48e1738c-d2ae-4d64-88a7-5f048cd0fce6",
   "metadata": {},
   "outputs": [
    {
     "data": {
      "text/plain": [
       "17"
      ]
     },
     "execution_count": 23,
     "metadata": {},
     "output_type": "execute_result"
    }
   ],
   "source": [
    "next(t)"
   ]
  },
  {
   "cell_type": "code",
   "execution_count": 24,
   "id": "c192c011-059a-4111-9ec6-9a65057d7a96",
   "metadata": {},
   "outputs": [
    {
     "data": {
      "text/plain": [
       "19"
      ]
     },
     "execution_count": 24,
     "metadata": {},
     "output_type": "execute_result"
    }
   ],
   "source": [
    "next(t)"
   ]
  },
  {
   "cell_type": "code",
   "execution_count": 7,
   "id": "2cb33e8b-22c7-4f3d-9fbd-a7e4396bc173",
   "metadata": {},
   "outputs": [],
   "source": [
    "#Q6 \n",
    "def fib_no(n):\n",
    "    i=0\n",
    "    a=0\n",
    "    b=1\n",
    "    while i<n:\n",
    "        print(a)\n",
    "        c=a+b\n",
    "        a=b\n",
    "        b=c\n",
    "        i+=1\n",
    "    return c   \n"
   ]
  },
  {
   "cell_type": "code",
   "execution_count": 8,
   "id": "b85b7837-ec6b-4a16-9ba9-a12441d5bb6a",
   "metadata": {},
   "outputs": [
    {
     "name": "stdout",
     "output_type": "stream",
     "text": [
      "0\n",
      "1\n",
      "1\n",
      "2\n",
      "3\n",
      "5\n",
      "8\n",
      "13\n",
      "21\n",
      "34\n"
     ]
    },
    {
     "data": {
      "text/plain": [
       "89"
      ]
     },
     "execution_count": 8,
     "metadata": {},
     "output_type": "execute_result"
    }
   ],
   "source": [
    "fib_no(10)"
   ]
  },
  {
   "cell_type": "code",
   "execution_count": 14,
   "id": "6526cdac-081e-46a1-9cd6-17977f0a82bb",
   "metadata": {},
   "outputs": [
    {
     "data": {
      "text/plain": [
       "['p', 'w', 's', 'k', 'i', 'l', 'l', 's']"
      ]
     },
     "execution_count": 14,
     "metadata": {},
     "output_type": "execute_result"
    }
   ],
   "source": [
    "#Q7\n",
    "a=\"pwskills\"\n",
    "\n",
    "[i for i in a]"
   ]
  },
  {
   "cell_type": "code",
   "execution_count": 61,
   "id": "73060946-fe6a-4e03-89ef-a1703242e0e8",
   "metadata": {},
   "outputs": [],
   "source": [
    "#Q8\n",
    "def pelindrome(n):\n",
    "    rev=0\n",
    "    temp=n\n",
    "    while n>0:\n",
    "        t=n%10\n",
    "        rev=rev*10 + t\n",
    "        n=n//10\n",
    "     \n",
    "    if(temp==rev):\n",
    "        print(temp,\"is pelindrome\")\n",
    "    else:\n",
    "        print(temp,\"isnt pelindrome\")"
   ]
  },
  {
   "cell_type": "code",
   "execution_count": 62,
   "id": "db217fc2-6b0b-4a2c-88ea-627a24484aad",
   "metadata": {},
   "outputs": [
    {
     "name": "stdout",
     "output_type": "stream",
     "text": [
      "348 isnt pelindrome\n"
     ]
    }
   ],
   "source": [
    "pelindrome(348)"
   ]
  },
  {
   "cell_type": "code",
   "execution_count": 68,
   "id": "40addc55-3c73-44db-8a54-5cefee2cfd58",
   "metadata": {},
   "outputs": [
    {
     "data": {
      "text/plain": [
       "[1,\n",
       " 3,\n",
       " 5,\n",
       " 7,\n",
       " 9,\n",
       " 11,\n",
       " 13,\n",
       " 15,\n",
       " 17,\n",
       " 19,\n",
       " 21,\n",
       " 23,\n",
       " 25,\n",
       " 27,\n",
       " 29,\n",
       " 31,\n",
       " 33,\n",
       " 35,\n",
       " 37,\n",
       " 39,\n",
       " 41,\n",
       " 43,\n",
       " 45,\n",
       " 47,\n",
       " 49,\n",
       " 51,\n",
       " 53,\n",
       " 55,\n",
       " 57,\n",
       " 59,\n",
       " 61,\n",
       " 63,\n",
       " 65,\n",
       " 67,\n",
       " 69,\n",
       " 71,\n",
       " 73,\n",
       " 75,\n",
       " 77,\n",
       " 79,\n",
       " 81,\n",
       " 83,\n",
       " 85,\n",
       " 87,\n",
       " 89,\n",
       " 91,\n",
       " 93,\n",
       " 95,\n",
       " 97,\n",
       " 99]"
      ]
     },
     "execution_count": 68,
     "metadata": {},
     "output_type": "execute_result"
    }
   ],
   "source": [
    "#Q9\n",
    "\n",
    "l1=[]\n",
    "[i for i in range(1,101) if i%2!=0]"
   ]
  },
  {
   "cell_type": "code",
   "execution_count": null,
   "id": "393d8d05-000b-45c8-adc1-760065d59d2d",
   "metadata": {},
   "outputs": [],
   "source": []
  }
 ],
 "metadata": {
  "kernelspec": {
   "display_name": "Python 3 (ipykernel)",
   "language": "python",
   "name": "python3"
  },
  "language_info": {
   "codemirror_mode": {
    "name": "ipython",
    "version": 3
   },
   "file_extension": ".py",
   "mimetype": "text/x-python",
   "name": "python",
   "nbconvert_exporter": "python",
   "pygments_lexer": "ipython3",
   "version": "3.10.8"
  }
 },
 "nbformat": 4,
 "nbformat_minor": 5
}
